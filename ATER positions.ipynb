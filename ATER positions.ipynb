{
  "cells": [
    {
      "cell_type": "markdown",
      "metadata": {
        "id": "view-in-github",
        "colab_type": "text"
      },
      "source": [
        "<a href=\"https://colab.research.google.com/github/URIB4u/ATER_Finder/blob/main/ATER%20positions.ipynb\" target=\"_parent\"><img src=\"https://colab.research.google.com/assets/colab-badge.svg\" alt=\"Open In Colab\"/></a>"
      ]
    },
    {
      "cell_type": "markdown",
      "source": [
        "# ATER Job Opportunity Finder\n",
        "\n",
        "Welcome! This notebook helps you find \"Attaché Temporaire d'Enseignement et de Recherche\" (ATER) job opportunities in French higher education.\n",
        "\n",
        "Follow the steps below to use the tool. You don't need any programming knowledge! Just run each section by clicking the \"Play\" button (the triangle) to the left of each cell and fill in the information when prompted."
      ],
      "metadata": {
        "id": "yb_FFtzG3ww6"
      },
      "id": "yb_FFtzG3ww6"
    },
    {
      "cell_type": "markdown",
      "source": [
        "## 1. Set Up the Tool\n",
        "\n",
        "This section prepares the notebook by importing the necessary software tools and setting up some initial information. **Click the \"Play\" button to the left to run this section.** You should see some output indicating that the tools have been loaded."
      ],
      "metadata": {
        "id": "mJUcr3gw36oD"
      },
      "id": "mJUcr3gw36oD"
    },
    {
      "cell_type": "code",
      "execution_count": 1,
      "id": "91dc9d0f-7834-4f75-93af-7bf6ddc8548b",
      "metadata": {
        "colab": {
          "base_uri": "https://localhost:8080/"
        },
        "id": "91dc9d0f-7834-4f75-93af-7bf6ddc8548b",
        "outputId": "7b9d3da6-002f-42b9-c391-a9686465f496"
      },
      "outputs": [
        {
          "output_type": "stream",
          "name": "stdout",
          "text": [
            "Libraries imported and configuration set.\n",
            "Configured URL: https://www.galaxie.enseignementsup-recherche.gouv.fr/ensup/ATERListesOffresPubliees/ATEROffres_publiees_annee.xls\n",
            "Fallback CSV: https://raw.githubusercontent.com/URIB4u/ATER_Finder/refs/heads/main/ATER.csv\n",
            "Profile column: Profil appel à candidatures\n",
            "Date column: Date cloture candidature\n"
          ]
        }
      ],
      "source": [
        "# ----------------------------------------------\n",
        "# This cell imports the necessary libraries and sets up the configuration for the script.\n",
        "# It defines the URL for downloading the official Excel file, a fallback CSV file in case the download fails,\n",
        "# and the column names for filtering the data later.\n",
        "\n",
        "\n",
        "import requests\n",
        "import pandas as pd\n",
        "from io import BytesIO\n",
        "import sys\n",
        "\n",
        "# Columns we are interested in\n",
        "columns_of_interest = [\n",
        "    'Etablissement de rattachement',  # Institution\n",
        "    'Profil appel à candidatures',     # Job profile\n",
        "    'Date cloture candidature',        # Application deadline\n",
        "    'Localisation appel à candidatures',  # Location\n",
        "    'Quotité du poste',                  # Workload\n",
        "    'Etat du poste',                      # Status\n",
        "    'Type du poste'                      # Type of position\n",
        "]\n",
        "\n",
        "# --- Configuration ---\n",
        "# URL of the official Excel file\n",
        "ater_url = \"https://www.galaxie.enseignementsup-recherche.gouv.fr/ensup/ATERListesOffresPubliees/ATEROffres_publiees_annee.xls\"\n",
        "# Fallback local CSV filename (if URL download fails)\n",
        "fallback_csv = \"https://raw.githubusercontent.com/URIB4u/ATER_Finder/refs/heads/main/ATER.csv\"\n",
        "\n",
        "# Columns we are interested in\n",
        "profile_col = 'Profil appel à candidatures'\n",
        "date_col = 'Date cloture candidature'\n",
        "\n",
        "print(\"Libraries imported and configuration set.\")\n",
        "print(f\"Configured URL: {ater_url}\")\n",
        "print(f\"Fallback CSV: {fallback_csv}\")\n",
        "print(f\"Profile column: {profile_col}\")\n",
        "print(f\"Date column: {date_col}\")"
      ]
    },
    {
      "cell_type": "code",
      "source": [],
      "metadata": {
        "id": "fFmi_yio3vQ3"
      },
      "id": "fFmi_yio3vQ3",
      "execution_count": null,
      "outputs": []
    },
    {
      "cell_type": "markdown",
      "source": [
        "## 2. Load the Job Data\n",
        "\n",
        "This section contains the instructions for the notebook to go and get the latest job listings from the internet. **Click the \"Play\" button to the left to run this section.** If the main source is unavailable, it will try to use a backup file."
      ],
      "metadata": {
        "id": "073vJcbB4FQz"
      },
      "id": "073vJcbB4FQz"
    },
    {
      "cell_type": "code",
      "execution_count": 2,
      "id": "23966449-195d-4495-a614-b77d8d74fae3",
      "metadata": {
        "id": "23966449-195d-4495-a614-b77d8d74fae3"
      },
      "outputs": [],
      "source": [
        "def load_and_filter_data():\n",
        "    \"\"\"\n",
        "    This function loads the data from the official URL or a fallback CSV file.\n",
        "    It filters the data to include only the columns of interest.\n",
        "    \"\"\"\n",
        "    data = None\n",
        "    try:\n",
        "        # Attempt to download the Excel file\n",
        "        response = requests.get(ater_url)\n",
        "        response.raise_for_status()  # Raise an error for bad status codes\n",
        "        data = pd.read_excel(BytesIO(response.content), header=2) # Header is in the 3rd row (index 2)\n",
        "        print(\"Data successfully loaded from URL.\")\n",
        "\n",
        "        # Drop the first two rows of data (which were originally rows 0 and 1)\n",
        "        data = data.drop(index=[0, 1]).reset_index(drop=True)\n",
        "\n",
        "    except Exception as e:\n",
        "        print(f\"Failed to load data from URL: {e}\")\n",
        "        print(f\"Attempting to load fallback CSV: {fallback_csv}\")\n",
        "        try:\n",
        "            data = pd.read_csv(fallback_csv)\n",
        "            print(\"Data successfully loaded from fallback CSV.\")\n",
        "        except Exception as e:\n",
        "            print(f\"Failed to load fallback CSV: {e}\")\n",
        "            sys.exit(\"Unable to load data. Exiting.\")\n",
        "\n",
        "    if data is not None:\n",
        "        # Clean column names (optional, if needed)\n",
        "        data.columns = data.columns.str.strip()\n",
        "\n",
        "        # Filter the DataFrame to include only the columns of interest\n",
        "        try:\n",
        "            filtered_data = data[columns_of_interest]\n",
        "        except KeyError as e:\n",
        "            print(f\"Error: {e}\")\n",
        "            print(\"Please verify that the column names in 'columns_of_interest' match the actual column names in the loaded data.\")\n",
        "            print(f\"Actual columns: {data.columns.tolist()}\")\n",
        "            sys.exit(\"Exiting due to column mismatch.\")\n",
        "\n",
        "        return filtered_data\n",
        "    else:\n",
        "        sys.exit(\"Failed to load data from both URL and fallback CSV.\")"
      ]
    },
    {
      "cell_type": "markdown",
      "source": [
        "## 3. Process the Data\n",
        "\n",
        "This section takes the job data that was loaded and prepares it for searching. **Click the \"Play\" button to the left to run this section.** You might not see any output here, but the data is being processed behind the scenes."
      ],
      "metadata": {
        "id": "jDOYcsAM4OC0"
      },
      "id": "jDOYcsAM4OC0"
    },
    {
      "cell_type": "code",
      "execution_count": 3,
      "id": "a9282e13-2884-4b75-9f02-bb29c53f636b",
      "metadata": {
        "colab": {
          "base_uri": "https://localhost:8080/"
        },
        "id": "a9282e13-2884-4b75-9f02-bb29c53f636b",
        "outputId": "6feeb0fb-269e-407b-c24e-6e513a2f430a"
      },
      "outputs": [
        {
          "output_type": "stream",
          "name": "stdout",
          "text": [
            "Data successfully loaded from URL.\n"
          ]
        }
      ],
      "source": [
        "# Load the data\n",
        "df = load_and_filter_data()"
      ]
    },
    {
      "cell_type": "markdown",
      "source": [
        "## 4. Enter Your Search Criteria\n",
        "\n",
        "Please use the form below to specify what kind of job you are looking for and the latest closing date you are interested in.\n",
        "\n",
        "* **Enter Keyword (French):** Type the keyword related to your field of interest in French (e.g., informatique, droit privé).\n",
        "* **Enter Closing Date (YYYY-MM-DD):** Enter the closing date you are interested in, using the format YYYY-MM-DD (e.g., 2025-05-15). The search will find positions closing on or after this date.\n",
        "\n",
        "**After filling out the form, click the \"Play\" button to the left of the code cell below.**"
      ],
      "metadata": {
        "id": "Mw-gloO64TLE"
      },
      "id": "Mw-gloO64TLE"
    },
    {
      "cell_type": "code",
      "execution_count": 5,
      "id": "2f25492b-930e-46ae-ba7b-fc7942f9eaaa",
      "metadata": {
        "id": "2f25492b-930e-46ae-ba7b-fc7942f9eaaa"
      },
      "outputs": [],
      "source": [
        "# --- User Input (Colab Form) ---\n",
        "keyword = \"informatique\"  # Default value, can be changed in the form\n",
        "target_date_str = \"2025-04-30\"  # Default value, can be changed in the form\n",
        "\n",
        "profile_col = 'Profil appel à candidatures'\n",
        "date_col = 'Date cloture candidature'\n",
        "\n",
        "try:\n",
        "    target_date = pd.to_datetime(target_date_str)\n",
        "except ValueError:\n",
        "    print(\"Invalid date format. Please use YYYY-MM-DD.\")\n",
        "    sys.exit()"
      ]
    },
    {
      "cell_type": "markdown",
      "source": [
        "## 5. Find Matching Jobs\n",
        "\n",
        "This section will now search through the job data using the keyword and date you provided. **Click the \"Play\" button to the left to run this section.** The results will be displayed below."
      ],
      "metadata": {
        "id": "AOqjRXy14msy"
      },
      "id": "AOqjRXy14msy"
    },
    {
      "cell_type": "code",
      "execution_count": 6,
      "id": "4c9e1a7b-84a1-4daa-a4ae-805f4d95693f",
      "metadata": {
        "colab": {
          "base_uri": "https://localhost:8080/"
        },
        "id": "4c9e1a7b-84a1-4daa-a4ae-805f4d95693f",
        "outputId": "1f7e1068-4564-40f2-cad1-1f9d7e60f62a"
      },
      "outputs": [
        {
          "output_type": "stream",
          "name": "stdout",
          "text": [
            "\n",
            "--- Filtering Results ---\n",
            "Filtering for keyword 'informatique' in 'Profil appel à candidatures'\n",
            "Filtering for closing date on or after 30/04/2025 in 'Date cloture candidature'\n",
            "\n",
            "Found 1 matching positions:\n",
            "\n",
            "-------------------- Position --------------------\n",
            "Etablissement de rattachement: INSA DE RENNES\n",
            "Profil appel à candidatures: INFORMATIQUE\n",
            "Date cloture candidature: 2025-05-05 00:00:00\n",
            "Localisation appel à candidatures: INSA RENNES\n",
            "Quotité du poste: P\n",
            "Etat du poste: V\n",
            "Type du poste: ATER\n",
            "\n",
            "-------------------- End of Results --------------------\n"
          ]
        }
      ],
      "source": [
        "# --- Filtering and Display ---\n",
        "if df is not None and 'keyword' in locals() and 'target_date' in locals(): # Check if variables are defined\n",
        "    print(f\"\\n--- Filtering Results ---\")\n",
        "    print(f\"Filtering for keyword '{keyword}' in '{profile_col}'\")\n",
        "    print(f\"Filtering for closing date on or after {target_date.strftime('%d/%m/%Y')} in '{date_col}'\")\n",
        "\n",
        "    # Apply keyword filter (case-insensitive)\n",
        "    # 'na=False' ensures rows with NaN in the profile column are excluded\n",
        "    keyword_filter = df[profile_col].str.contains(keyword, case=False, na=False)\n",
        "\n",
        "    # Apply date filter\n",
        "    # Ensure the date column is in datetime format before comparison\n",
        "    df[date_col] = pd.to_datetime(df[date_col], format='%d/%m/%Y', errors='coerce') # Specify the date format\n",
        "    date_filter = (df[date_col] >= target_date) & (df[date_col].notna())\n",
        "\n",
        "    # Combine filters\n",
        "    filtered_df = df[keyword_filter & date_filter]\n",
        "\n",
        "    # --- Display Results ---\n",
        "    if not filtered_df.empty:\n",
        "        print(f\"\\nFound {len(filtered_df)} matching positions:\")\n",
        "        for index, row in filtered_df.iterrows():\n",
        "            print(\"\\n-------------------- Position --------------------\")\n",
        "            display_cols = [col for col in columns_of_interest if col in filtered_df.columns]\n",
        "            for col in display_cols:\n",
        "                print(f\"{col}: {row[col]}\")\n",
        "        print(\"\\n-------------------- End of Results --------------------\")\n",
        "    else:\n",
        "        print(\"\\nNo positions found matching your criteria.\")\n",
        "\n",
        "elif df is None:\n",
        "    print(\"\\nCannot filter because data was not loaded.\")\n",
        "else:\n",
        "    print(\"\\nFiltering skipped because user input was not provided or was invalid.\")"
      ]
    },
    {
      "cell_type": "markdown",
      "source": [
        "## 6. Save Results to Excel (Optional)\n",
        "\n",
        "If you would like to save the list of matching job opportunities to an Excel file on your Google Drive, click the \"Play\" button to the left of the code cell below and follow the instructions. You will be asked to enter a name for your file."
      ],
      "metadata": {
        "id": "QXGwBdCz4wX2"
      },
      "id": "QXGwBdCz4wX2"
    },
    {
      "cell_type": "code",
      "execution_count": 7,
      "id": "9ad34ece-91ce-4c9a-af40-874d0daf8842",
      "metadata": {
        "colab": {
          "base_uri": "https://localhost:8080/"
        },
        "id": "9ad34ece-91ce-4c9a-af40-874d0daf8842",
        "outputId": "33f30c30-2c2b-4f83-b7bc-8d4b82910163"
      },
      "outputs": [
        {
          "output_type": "stream",
          "name": "stdout",
          "text": [
            "\n",
            "Do you want to save these results to a single Excel sheet? (yes/no) or (y/n): y\n",
            "Enter the filename for the Excel file (e.g., ater_positions): ater2025\n",
            "\n",
            "Results saved to 'ater2025.xlsx' on the 'All Results' sheet.\n"
          ]
        }
      ],
      "source": [
        "# --- Save Results to Excel ---\n",
        "if 'filtered_df' in locals() and not filtered_df.empty:\n",
        "    save_excel = input(\"\\nDo you want to save these results to a single Excel sheet? (yes/no) or (y/n): \").lower()\n",
        "    if save_excel in ['yes', 'y']:\n",
        "        base_filename = input(\"Enter the filename for the Excel file (e.g., ater_positions): \")\n",
        "        output_filename = f\"{base_filename}.xlsx\"\n",
        "        try:\n",
        "            filtered_df.to_excel(output_filename, sheet_name='All Results', index=False)\n",
        "            print(f\"\\nResults saved to '{output_filename}' on the 'All Results' sheet.\")\n",
        "        except Exception as e:\n",
        "            print(f\"\\nError saving to Excel: {e}\")\n",
        "else:\n",
        "    print(\"\\nNo results to save.\")"
      ]
    },
    {
      "cell_type": "code",
      "execution_count": null,
      "id": "9b8f0026-a681-431b-8c90-046bb0d950b9",
      "metadata": {
        "id": "9b8f0026-a681-431b-8c90-046bb0d950b9"
      },
      "outputs": [],
      "source": [
        "## End of Tool\n",
        "\n",
        "You have reached the end of the ATER Job Opportunity Finder. If you encountered any issues or have suggestions for improvement, please feel free to provide feedback."
      ]
    }
  ],
  "metadata": {
    "kernelspec": {
      "display_name": "Python 3 (ipykernel)",
      "language": "python",
      "name": "python3"
    },
    "language_info": {
      "codemirror_mode": {
        "name": "ipython",
        "version": 3
      },
      "file_extension": ".py",
      "mimetype": "text/x-python",
      "name": "python",
      "nbconvert_exporter": "python",
      "pygments_lexer": "ipython3",
      "version": "3.10.12"
    },
    "colab": {
      "provenance": [],
      "include_colab_link": true
    }
  },
  "nbformat": 4,
  "nbformat_minor": 5
}